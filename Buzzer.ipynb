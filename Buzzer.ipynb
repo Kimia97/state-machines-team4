{
 "metadata": {
  "language_info": {
   "codemirror_mode": {
    "name": "ipython",
    "version": 3
   },
   "file_extension": ".py",
   "mimetype": "text/x-python",
   "name": "python",
   "nbconvert_exporter": "python",
   "pygments_lexer": "ipython3",
   "version": "3.9.2-final"
  },
  "orig_nbformat": 2,
  "kernelspec": {
   "name": "python3",
   "display_name": "Python 3.9.2 64-bit",
   "metadata": {
    "interpreter": {
     "hash": "e51af411cd4613de5207692fb934a2b4afbc964a4d7243917f2978835338cc7a"
    }
   }
  }
 },
 "nbformat": 4,
 "nbformat_minor": 2,
 "cells": [
  {
   "cell_type": "code",
   "execution_count": null,
   "metadata": {},
   "outputs": [],
   "source": [
    "from stmpy import Driver, Machine\n",
    "\n",
    "class Buzzer: \n",
    "    def on_init(self):\n",
    "        print(\"INIT\")\n",
    "\n",
    "\n",
    "    def send...\n",
    "\n",
    "\n",
    "t0 = {\"source\": \"initial\", \"target\": \"idle\", \"effect\": \"on_init\"}\n",
    "\n",
    "t1 = {\n",
    "    \"trigger\": \"message\",\n",
    "    \"source\": \"idle\",\n",
    "    \"target\": \"waiting_for_buzz\", \n",
    "    \"effect\": \"start_timer('t', 20000)\", \n",
    "}\n",
    "\n",
    "t2 = {\n",
    "    \"trigger\": \"t\",\n",
    "    \"source\": \"waiting_for_buzz\",\n",
    "    \"target\": \"idle\",  \n",
    "}\n",
    "\n",
    "t3 = {\n",
    "    \"trigger\": \"buzz\",\n",
    "    \"source\": \"waiting_for_buzz\",\n",
    "    \"target\": \"participant_answer\", \n",
    "    \"effect\": \"stop_timer('t')\", \n",
    "}\n",
    "\n",
    "t4 = {\n",
    "    \"trigger\": \"reset\",\n",
    "    \"source\": \"participant_answer\",\n",
    "    \"target\": \"idle\", \n",
    "}\n"
   ]
  },
  {
   "cell_type": "code",
   "execution_count": null,
   "metadata": {},
   "outputs": [],
   "source": [
    "from threading import Thread\n",
    "import paho.mqtt.client as mqtt\n",
    "\n",
    "class MQTT_Client: \n",
    "    def __init__(self):\n",
    "        self.client = mqtt.Client()\n",
    "        self.client.on_connect = self.on_connect\n",
    "        self.client.on_message = self.on_message\n",
    "\n",
    "    def on_connect(self, client, userdata, flags, rc): \n",
    "        print(\"on_connect(): {}\".format(mqtt.connack_string(rc)))\n",
    "\n",
    "    def on_message(self, client, userdata, msg):\n",
    "        print(\"on_message(): topic: {}\".format(msg.topic))\n",
    "        self.stm_driver.send(\"message\", \"quiz_buzzer\")\n",
    "    \n",
    "    def start(self, broker, port):\n",
    "        print(\"Connecting to {}:{}\".format(broker, port))\n",
    "        self.client.connect(broker, port)\n",
    "\n",
    "        self.client.subscribe(\"\")\n",
    "\n",
    "        try:\n",
    "            thread = Thread(target=self.client.loop_forever)\n",
    "            thread.start()\n",
    "        except KeyboardInterrupt:\n",
    "            print(\"Interrupted\")\n",
    "            self.client.disconnect()"
   ]
  },
  {
   "cell_type": "code",
   "execution_count": 1,
   "metadata": {},
   "outputs": [
    {
     "output_type": "error",
     "ename": "NameError",
     "evalue": "name 'Buzzer' is not defined",
     "traceback": [
      "\u001b[1;31m---------------------------------------------------------------------------\u001b[0m",
      "\u001b[1;31mNameError\u001b[0m                                 Traceback (most recent call last)",
      "\u001b[1;32m<ipython-input-1-fdeaac118add>\u001b[0m in \u001b[0;36m<module>\u001b[1;34m\u001b[0m\n\u001b[0;32m      1\u001b[0m \u001b[0mbroker\u001b[0m\u001b[1;33m,\u001b[0m \u001b[0mport\u001b[0m \u001b[1;33m=\u001b[0m \u001b[1;34m\"mqtt.item.ntnu.no\"\u001b[0m\u001b[1;33m,\u001b[0m \u001b[1;36m1883\u001b[0m\u001b[1;33m\u001b[0m\u001b[1;33m\u001b[0m\u001b[0m\n\u001b[1;32m----> 2\u001b[1;33m \u001b[0mbuzzer\u001b[0m \u001b[1;33m=\u001b[0m \u001b[0mBuzzer\u001b[0m\u001b[1;33m(\u001b[0m\u001b[1;33m)\u001b[0m\u001b[1;33m\u001b[0m\u001b[1;33m\u001b[0m\u001b[0m\n\u001b[0m\u001b[0;32m      3\u001b[0m \u001b[1;33m\u001b[0m\u001b[0m\n\u001b[0;32m      4\u001b[0m \u001b[0mbuzzer_machine\u001b[0m \u001b[1;33m=\u001b[0m \u001b[0mMachine\u001b[0m\u001b[1;33m(\u001b[0m\u001b[0mtransitions\u001b[0m\u001b[1;33m=\u001b[0m\u001b[1;33m[\u001b[0m\u001b[1;33m]\u001b[0m\u001b[1;33m,\u001b[0m \u001b[0mobj\u001b[0m\u001b[1;33m=\u001b[0m\u001b[0mbuzzer\u001b[0m\u001b[1;33m,\u001b[0m \u001b[0mname\u001b[0m\u001b[1;33m=\u001b[0m\u001b[1;34m\"quiz_buzzer\"\u001b[0m\u001b[1;33m)\u001b[0m\u001b[1;33m\u001b[0m\u001b[1;33m\u001b[0m\u001b[0m\n\u001b[0;32m      5\u001b[0m \u001b[0mbuzzer\u001b[0m\u001b[1;33m.\u001b[0m\u001b[0mstm\u001b[0m \u001b[1;33m=\u001b[0m \u001b[0mbuzzer_machine\u001b[0m\u001b[1;33m\u001b[0m\u001b[1;33m\u001b[0m\u001b[0m\n",
      "\u001b[1;31mNameError\u001b[0m: name 'Buzzer' is not defined"
     ]
    }
   ],
   "source": [
    "broker, port = \"mqtt.item.ntnu.no\", 1883\n",
    "buzzer = Buzzer()\n",
    "\n",
    "buzzer_machine = Machine(transitions=[t0, t1, t2, t3, t4], obj=buzzer, name=\"quiz_buzzer\")\n",
    "buzzer.stm = buzzer_machine\n",
    "\n",
    "driver = Driver()\n",
    "driver.add_machine(buzzer_machine)\n",
    "\n",
    "myclient = MQTT_Client()\n",
    "buzzer.mqtt_client = myclient.client\n",
    "myclient.stm_driver = driver\n",
    "\n",
    "driver.start()\n",
    "myclient.start(broker, port)\n"
   ]
  }
 ]
}