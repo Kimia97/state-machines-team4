{
 "cells": [
  {
   "cell_type": "markdown",
   "metadata": {},
   "source": [
    "# State Machines in Python - Part 3\n",
    "\n",
    "Below you the code from the signal light we had before. We just applied a slight change: The states `on` and `off` are now also detailed by dictionaries. Now they can specify entry actions, that are called when the state is entered. We just move the actions that we had previously on the transitions into the states.\n",
    "\n",
    "Note that this also works for exit action, using the dictionary key `exit`, and you can have as many actions as you like, by separating them with a `;`."
   ]
  },
  {
   "cell_type": "code",
   "execution_count": null,
   "metadata": {},
   "outputs": [],
   "source": [
    "from stmpy import Machine, Driver\n",
    "\n",
    "import ipywidgets as widgets\n",
    "from IPython.display import display\n",
    "\n",
    "class SignalLight:\n",
    "    \n",
    "    def on_button_switch(self, b):\n",
    "        self.stm.send_signal('switch') # <---- here we send a signal\n",
    "        \n",
    "    def on_button_terminate(self, b):\n",
    "        self.stm.driver.stop() # <---- here we stop the driver\n",
    "    \n",
    "    def __init__(self):\n",
    "        # load images and store them\n",
    "        self.yellow_on = open(\"images/yellow_on.png\", \"rb\").read()\n",
    "        self.yellow_off = open(\"images/yellow_off.png\", \"rb\").read()\n",
    "        \n",
    "        # display the user interface\n",
    "        # a button\n",
    "        self.button_switch = widgets.Button(description=\"Send Signal 'switch'\")\n",
    "        self.button_switch.on_click(self.on_button_switch)\n",
    "        # another button\n",
    "        self.button_terminate = widgets.Button(description=\"Stop the Driver\")\n",
    "        self.button_terminate.on_click(self.on_button_terminate)\n",
    "        # an image of a yellow light\n",
    "        self.yellow = widgets.Image(value=self.yellow_off, format='png', width=50, height=50)\n",
    "        # display everything\n",
    "        display(self.yellow, self.button_switch, self.button_terminate)\n",
    "        \n",
    "    def turn_yellow_on(self):\n",
    "        # switch on the yellow light\n",
    "        self.yellow.set_trait(name='value', value=self.yellow_on)\n",
    "        \n",
    "    def turn_yellow_off(self):\n",
    "        # switch off the yellow light\n",
    "        self.yellow.set_trait(name='value', value=self.yellow_off)\n",
    "        \n",
    "    def start_timer(self):\n",
    "        # start the timer\n",
    "        self.stm.start_timer('t', 1000)\n",
    "        \n",
    "signal = SignalLight()\n",
    "\n",
    "t0 = {'source': 'initial',\n",
    "      'effect': 'start_timer',\n",
    "      'target': 'off'}\n",
    "\n",
    "# Change 1: effect is removed\n",
    "t1 = {'trigger':'t',\n",
    "      'source':'off',\n",
    "      'target':'on'}\n",
    "\n",
    "# Change 2: effect is removed here, too\n",
    "t2 = {'trigger':'t', \n",
    "      'source':'on', \n",
    "      'target':'off'}\n",
    "\n",
    "# Change 3: We declare dicts for the states\n",
    "off = {'name': 'off',\n",
    "       'entry': 'turn_yellow_off; start_timer'\n",
    "      }\n",
    "\n",
    "on = {'name': 'on',\n",
    "       'entry': 'turn_yellow_on; start_timer'\n",
    "      }\n",
    "\n",
    "# Change 4: We pass the set of states to the state machine\n",
    "machine = Machine(name='signal', transitions=[t0, t1, t2], obj=signal, states=[on, off])\n",
    "signal.stm = machine\n",
    "\n",
    "driver = Driver()\n",
    "driver.add_machine(machine)\n",
    "driver.start()"
   ]
  },
  {
   "cell_type": "code",
   "execution_count": null,
   "metadata": {
    "collapsed": true
   },
   "outputs": [],
   "source": []
  }
 ],
 "metadata": {
  "kernelspec": {
   "display_name": "Python [default]",
   "language": "python",
   "name": "python3"
  },
  "language_info": {
   "codemirror_mode": {
    "name": "ipython",
    "version": 3
   },
   "file_extension": ".py",
   "mimetype": "text/x-python",
   "name": "python",
   "nbconvert_exporter": "python",
   "pygments_lexer": "ipython3",
   "version": "3.5.4"
  }
 },
 "nbformat": 4,
 "nbformat_minor": 2
}
