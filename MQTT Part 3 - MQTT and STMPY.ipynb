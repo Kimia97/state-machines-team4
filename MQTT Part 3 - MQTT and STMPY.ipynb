{
 "cells": [
  {
   "cell_type": "markdown",
   "metadata": {},
   "source": [
    "# Combining MQTT and STMPY\n",
    "\n",
    "In this notebook, we want to combine MQTT with a STMPY state machine. For just getting this first connection implemented, the result does nothing really useful, but should be easy to run and debug. I promise, the system we are going to build next week based on what we learn this week will be more useful, but this way we can learn one thing at a time.\n",
    "\n",
    "The application is simple:\n",
    "\n",
    " * We subscribe to an MQTT topic.\n",
    " * Whenever we receive a message at that topic, we trigger an event `message` in the state machine.\n",
    " * The state machine just switches between to states `tick` and `tock`.\n",
    " * Whenver the state machine switches, it also publishes an MQTT message that show the number of ticks and tocks.\n",
    " \n",
    "Here is the diagram of the machine:\n",
    "\n",
    "![](images/mqtt-tick-tock.png)\n",
    "\n",
    "Let us first declare this machine, in the same way we did it before in STMPY:"
   ]
  },
  {
   "cell_type": "code",
   "execution_count": 8,
   "metadata": {},
   "outputs": [],
   "source": [
    "from stmpy import Machine, Driver\n",
    "\n",
    "class Tick:\n",
    "\n",
    "    def on_init(self):\n",
    "        print('Init!')\n",
    "        self.ticks = 0\n",
    "        self.tocks = 0\n",
    "\n",
    "    def send_mqtt_tick(self):\n",
    "        print('Tick! {}'.format(self.ticks))\n",
    "        self.ticks = self.ticks + 1\n",
    "        self.mqtt_client.publish('tick', self.ticks)\n",
    "\n",
    "    def send_mqtt_tock(self):\n",
    "        print('Tock! {}'.format(self.tocks))\n",
    "        self.tocks = self.tocks + 1\n",
    "        self.mqtt_client.publish('tock', self.ticks)\n",
    "\n",
    "# initial transition\n",
    "t0 = {'source': 'initial', \n",
    "      'target': 's_tick',\n",
    "      'effect': 'on_init'}\n",
    "\n",
    "t1 = {'trigger':'message', \n",
    "      'source':'s_tick', \n",
    "      'target':'s_tock', \n",
    "      'effect':'send_mqtt_tick'}\n",
    "\n",
    "t2 = {'trigger':'message', \n",
    "      'source':'s_tock', \n",
    "      'target':'s_tick', \n",
    "      'effect':'send_mqtt_tock'}"
   ]
  },
  {
   "cell_type": "markdown",
   "metadata": {},
   "source": [
    "The coupling with MQTT is only visible at a few points:\n",
    "\n",
    " * We use the line `self.mqtt_client.publish('tick', self.ticks)` to publish the MQTT message. We just need to remember to set the variable `self.mqtt_client` with the Paho MQTT client. (Note that we here use the Paho client direclty, not our wrapper class MQTT_Client_1).\n",
    " * The state machine is triggered by the message `message`. This will be dispatched by the MQTT client."
   ]
  },
  {
   "cell_type": "code",
   "execution_count": 11,
   "metadata": {},
   "outputs": [],
   "source": [
    "import paho.mqtt.client as mqtt\n",
    "from threading import Thread\n",
    "\n",
    "class MQTT_Client_1:\n",
    "    \n",
    "    def __init__(self):\n",
    "        self.count = 0\n",
    "        self.client = mqtt.Client()\n",
    "        self.client.on_connect = self.on_connect\n",
    "        self.client.on_message = self.on_message\n",
    "        \n",
    "    def on_connect(self, client, userdata, flags, rc):\n",
    "        print('on_connect(): {}'.format(mqtt.connack_string(rc)))\n",
    "        \n",
    "    def on_message(self, client, userdata, msg):\n",
    "        print('on_message(): topic: {}'.format(msg.topic))\n",
    "        self.stm_driver.send('message', 'tick_tock')\n",
    "        \n",
    "    def start(self, broker, port):\n",
    "\n",
    "        print('Connecting to {}:{}'.format(broker, port))\n",
    "        self.client.connect(broker, port)\n",
    "\n",
    "        self.client.subscribe(\"ttm4115\")\n",
    "        \n",
    "        try:\n",
    "            thread = Thread(target=self.client.loop_forever())\n",
    "            thread.start()\n",
    "        except KeyboardInterrupt:\n",
    "            print('Interrupted')\n",
    "            self.client.disconnect()"
   ]
  },
  {
   "cell_type": "markdown",
   "metadata": {},
   "source": [
    "Our MQTT client above is now configured so that whenever it receives an MQTT message, it dispatches a message into the state machine driver, with the `tick_tock` machine as address, so that it is sent to the state machine. There, it triggers the transitions.\n",
    "\n",
    "In the following, we start the MQTT client and the state machine driver, connect them with each other, and start everything:"
   ]
  },
  {
   "cell_type": "code",
   "execution_count": null,
   "metadata": {},
   "outputs": [
    {
     "name": "stdout",
     "output_type": "stream",
     "text": [
      "Init!\n",
      "Connecting to localhost:1883\n",
      "on_connect(): Connection Accepted.\n",
      "on_message(): topic: ttm4115\n",
      "Tick! 0\n"
     ]
    },
    {
     "name": "stderr",
     "output_type": "stream",
     "text": [
      "Error when running function send_mqtt_tock from machine.\n",
      "Traceback (most recent call last):\n",
      "  File \"/usr/local/lib/python3.6/site-packages/stmpy/__init__.py\", line 590, in _run_function\n",
      "    func(*args, **kwargs)\n",
      "  File \"<ipython-input-8-15d3ab2cce48>\", line 18, in send_mqtt_tock\n",
      "    self.client.publish('tock', self.ticks)\n",
      "AttributeError: 'Tick' object has no attribute 'client'\n"
     ]
    },
    {
     "name": "stdout",
     "output_type": "stream",
     "text": [
      "on_message(): topic: ttm4115\n",
      "Tock! 0\n",
      "on_message(): topic: ttm4115\n",
      "Tick! 1\n"
     ]
    }
   ],
   "source": [
    "broker, port = 'iot.eclipse.org', 1883\n",
    "broker, port = 'localhost', 1883\n",
    "\n",
    "tick = Tick()\n",
    "tick_tock_machine = Machine(transitions=[t0, t1, t2], obj=tick, name='tick_tock')\n",
    "tick.stm = tick_tock_machine\n",
    "\n",
    "driver = Driver()\n",
    "driver.add_machine(tick_tock_machine)\n",
    "\n",
    "myclient = MQTT_Client_1()\n",
    "tick.mqtt_client = myclient.client\n",
    "myclient.stm_driver = driver\n",
    "\n",
    "driver.start()\n",
    "myclient.start(broker, port)"
   ]
  },
  {
   "cell_type": "code",
   "execution_count": 7,
   "metadata": {},
   "outputs": [
    {
     "name": "stdout",
     "output_type": "stream",
     "text": [
      ".......\n",
      "{'name': 'on_init', 'args': [], 'event_args': False}\n",
      ".......\n",
      "{'name': 'send_mqtt_tick', 'args': [], 'event_args': False}\n",
      ".......\n",
      "{'name': 'send_mqtt_tock', 'args': [], 'event_args': False}\n"
     ]
    },
    {
     "data": {
      "image/svg+xml": [
       "<?xml version=\"1.0\" encoding=\"UTF-8\" standalone=\"no\"?>\n",
       "<!DOCTYPE svg PUBLIC \"-//W3C//DTD SVG 1.1//EN\"\n",
       " \"http://www.w3.org/Graphics/SVG/1.1/DTD/svg11.dtd\">\n",
       "<!-- Generated by graphviz version 2.40.1 (20161225.0304)\n",
       " -->\n",
       "<!-- Title: G Pages: 1 -->\n",
       "<svg width=\"235pt\" height=\"208pt\"\n",
       " viewBox=\"0.00 0.00 235.14 208.40\" xmlns=\"http://www.w3.org/2000/svg\" xmlns:xlink=\"http://www.w3.org/1999/xlink\">\n",
       "<g id=\"graph0\" class=\"graph\" transform=\"scale(1 1) rotate(0) translate(4 204.4)\">\n",
       "<title>G</title>\n",
       "<polygon fill=\"#ffffff\" stroke=\"transparent\" points=\"-4,4 -4,-204.4 231.1418,-204.4 231.1418,4 -4,4\"/>\n",
       "<!-- initial -->\n",
       "<g id=\"node1\" class=\"node\">\n",
       "<title>initial</title>\n",
       "<ellipse fill=\"#000000\" stroke=\"#000000\" cx=\"69.0939\" cy=\"-193.2\" rx=\"7.2\" ry=\"7.2\"/>\n",
       "</g>\n",
       "<!-- s_tick -->\n",
       "<g id=\"node2\" class=\"node\">\n",
       "<title>s_tick</title>\n",
       "<path fill=\"none\" stroke=\"#000000\" d=\"M84.0939,-136C84.0939,-136 54.0939,-136 54.0939,-136 48.0939,-136 42.0939,-130 42.0939,-124 42.0939,-124 42.0939,-112 42.0939,-112 42.0939,-106 48.0939,-100 54.0939,-100 54.0939,-100 84.0939,-100 84.0939,-100 90.0939,-100 96.0939,-106 96.0939,-112 96.0939,-112 96.0939,-124 96.0939,-124 96.0939,-130 90.0939,-136 84.0939,-136\"/>\n",
       "<text text-anchor=\"middle\" x=\"69.0939\" y=\"-113.8\" font-family=\"Helvetica,sans-Serif\" font-size=\"14.00\" fill=\"#000000\">s_tick</text>\n",
       "</g>\n",
       "<!-- initial&#45;&gt;s_tick -->\n",
       "<g id=\"edge1\" class=\"edge\">\n",
       "<title>initial&#45;&gt;s_tick</title>\n",
       "<path fill=\"none\" stroke=\"#000000\" d=\"M69.0939,-185.9895C69.0939,-176.9082 69.0939,-160.7628 69.0939,-146.4839\"/>\n",
       "<polygon fill=\"#000000\" stroke=\"#000000\" points=\"72.594,-146.0765 69.0939,-136.0766 65.594,-146.0766 72.594,-146.0765\"/>\n",
       "<text text-anchor=\"middle\" x=\"102.1628\" y=\"-156.8\" font-family=\"Helvetica,sans-Serif\" font-size=\"14.00\" fill=\"#000000\"> &#160;/on_init();</text>\n",
       "</g>\n",
       "<!-- s_tock -->\n",
       "<g id=\"node3\" class=\"node\">\n",
       "<title>s_tock</title>\n",
       "<path fill=\"none\" stroke=\"#000000\" d=\"M85.5577,-36C85.5577,-36 52.6301,-36 52.6301,-36 46.6301,-36 40.6301,-30 40.6301,-24 40.6301,-24 40.6301,-12 40.6301,-12 40.6301,-6 46.6301,0 52.6301,0 52.6301,0 85.5577,0 85.5577,0 91.5577,0 97.5577,-6 97.5577,-12 97.5577,-12 97.5577,-24 97.5577,-24 97.5577,-30 91.5577,-36 85.5577,-36\"/>\n",
       "<text text-anchor=\"middle\" x=\"69.0939\" y=\"-13.8\" font-family=\"Helvetica,sans-Serif\" font-size=\"14.00\" fill=\"#000000\">s_tock</text>\n",
       "</g>\n",
       "<!-- s_tick&#45;&gt;s_tock -->\n",
       "<g id=\"edge2\" class=\"edge\">\n",
       "<title>s_tick&#45;&gt;s_tock</title>\n",
       "<path fill=\"none\" stroke=\"#000000\" d=\"M41.8067,-110.0805C28.1086,-104.5702 12.7546,-95.6959 4.7219,-82 -1.574,-71.2656 -1.574,-64.7344 4.7219,-54 10.7844,-43.6634 21.0171,-36.0731 31.5609,-30.6028\"/>\n",
       "<polygon fill=\"#000000\" stroke=\"#000000\" points=\"33.2025,-33.6998 40.8097,-26.3254 30.2641,-27.3463 33.2025,-33.6998\"/>\n",
       "<text text-anchor=\"middle\" x=\"58.78\" y=\"-70.8\" font-family=\"Helvetica,sans-Serif\" font-size=\"14.00\" fill=\"#000000\"> message /</text>\n",
       "<text text-anchor=\"middle\" x=\"58.78\" y=\"-56.8\" font-family=\"Helvetica,sans-Serif\" font-size=\"14.00\" fill=\"#000000\">send_mqtt_tick();</text>\n",
       "</g>\n",
       "<!-- s_tock&#45;&gt;s_tick -->\n",
       "<g id=\"edge3\" class=\"edge\">\n",
       "<title>s_tock&#45;&gt;s_tick</title>\n",
       "<path fill=\"none\" stroke=\"#000000\" d=\"M97.4476,-35.6433C103.3632,-40.7805 108.7983,-46.9427 112.0939,-54 117.3594,-65.2756 117.3594,-70.7244 112.0939,-82 109.9904,-86.5046 107.0152,-90.6444 103.5998,-94.3858\"/>\n",
       "<polygon fill=\"#000000\" stroke=\"#000000\" points=\"100.953,-92.0725 96.1092,-101.4952 105.7719,-97.1497 100.953,-92.0725\"/>\n",
       "<text text-anchor=\"middle\" x=\"171.1179\" y=\"-70.8\" font-family=\"Helvetica,sans-Serif\" font-size=\"14.00\" fill=\"#000000\"> message /</text>\n",
       "<text text-anchor=\"middle\" x=\"171.1179\" y=\"-56.8\" font-family=\"Helvetica,sans-Serif\" font-size=\"14.00\" fill=\"#000000\">send_mqtt_tock();</text>\n",
       "</g>\n",
       "</g>\n",
       "</svg>\n"
      ],
      "text/plain": [
       "<graphviz.files.Source at 0x103b2ef28>"
      ]
     },
     "execution_count": 7,
     "metadata": {},
     "output_type": "execute_result"
    }
   ],
   "source": [
    "from graphviz import Source\n",
    "import stmpy\n",
    "dot = stmpy.get_graphviz_dot(tick_tock_machine)\n",
    "src = Source(dot)\n",
    "src"
   ]
  },
  {
   "cell_type": "code",
   "execution_count": null,
   "metadata": {},
   "outputs": [],
   "source": []
  }
 ],
 "metadata": {
  "kernelspec": {
   "display_name": "Python 3",
   "language": "python",
   "name": "python3"
  },
  "language_info": {
   "codemirror_mode": {
    "name": "ipython",
    "version": 3
   },
   "file_extension": ".py",
   "mimetype": "text/x-python",
   "name": "python",
   "nbconvert_exporter": "python",
   "pygments_lexer": "ipython3",
   "version": "3.6.5"
  }
 },
 "nbformat": 4,
 "nbformat_minor": 2
}
