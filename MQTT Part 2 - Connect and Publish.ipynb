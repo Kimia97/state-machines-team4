{
 "cells": [
  {
   "source": [
    "# MQTT Part 2 - Connect and Publish\n",
    "\n",
    "\n",
    "The code below is a MQTT client that subscribes to a topic. Whenever it receives a message for that topic, it uses the client to publish a new MQTT message, taking the original payload as content. "
   ],
   "cell_type": "markdown",
   "metadata": {}
  },
  {
   "cell_type": "code",
   "execution_count": 23,
   "metadata": {},
   "outputs": [],
   "source": [
    "from threading import Thread\n",
    "\n",
    "import paho.mqtt.client as mqtt\n",
    "\n",
    "\n",
    "class MQTT_Client_1:\n",
    "    def __init__(self):\n",
    "        self.count = 0\n",
    "\n",
    "    def on_connect(self, client, userdata, flags, rc):\n",
    "        print(\"on_connect(): {}\".format(mqtt.connack_string(rc)))\n",
    "\n",
    "    def on_message(self, client, userdata, msg):\n",
    "        print(\"on_message(): topic: {}\".format(msg.topic))\n",
    "        self.count = self.count + 1\n",
    "        try:\n",
    "            self.client.publish(\"kimia\", msg.payload)\n",
    "        except e:\n",
    "            print(e)\n",
    "\n",
    "        if self.count == 5:\n",
    "            self.client.disconnect()\n",
    "            print(\"disconnected after 5 forwards\")\n",
    "\n",
    "    def start(self, broker, port):\n",
    "        self.client = mqtt.Client()\n",
    "        self.client.on_connect = self.on_connect\n",
    "        self.client.on_message = self.on_message\n",
    "        print(\"Connecting to {}:{}\".format(broker, port))\n",
    "        self.client.connect(broker, port)\n",
    "\n",
    "        self.client.subscribe(\"team4/#\")\n",
    "\n",
    "        try:\n",
    "            thread = Thread(target=self.client.loop_forever)\n",
    "            thread.start()\n",
    "        except KeyboardInterrupt:\n",
    "            print(\"Interrupted\")\n",
    "            self.client.disconnect()"
   ]
  },
  {
   "cell_type": "code",
   "execution_count": 24,
   "metadata": {},
   "outputs": [
    {
     "output_type": "stream",
     "name": "stdout",
     "text": [
      "Connecting to mqtt.item.ntnu.no:1883\n",
      "on_connect(): Connection Accepted.\n"
     ]
    }
   ],
   "source": [
    "# broker, port = 'iot.eclipse.org', 1883\n",
    "broker, port = \"mqtt.item.ntnu.no\", 1883\n",
    "\n",
    "myclient = MQTT_Client_1()\n",
    "myclient.start(broker, port)"
   ]
  },
  {
   "cell_type": "markdown",
   "metadata": {},
   "source": [
    "Check with MQTT.FX that you actually forward the message to the new topic, and check that its payload is the one from the original message."
   ]
  },
  {
   "cell_type": "code",
   "execution_count": null,
   "metadata": {},
   "outputs": [],
   "source": []
  }
 ],
 "metadata": {
  "kernelspec": {
   "display_name": "Python 3",
   "language": "python",
   "name": "python3"
  },
  "language_info": {
   "codemirror_mode": {
    "name": "ipython",
    "version": 3
   },
   "file_extension": ".py",
   "mimetype": "text/x-python",
   "name": "python",
   "nbconvert_exporter": "python",
   "pygments_lexer": "ipython3",
   "version": "3.9.2-final"
  }
 },
 "nbformat": 4,
 "nbformat_minor": 4
}