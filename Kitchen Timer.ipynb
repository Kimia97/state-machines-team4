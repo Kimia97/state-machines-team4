{
 "cells": [
  {
   "cell_type": "markdown",
   "metadata": {},
   "source": [
    "# State Machine for the Kitchen Timer\n",
    "\n",
    "This is material for the lecture, not part of the mandatory preparation."
   ]
  },
  {
   "cell_type": "code",
   "execution_count": 9,
   "metadata": {
    "collapsed": true
   },
   "outputs": [],
   "source": [
    "from stmpy import Machine, Driver\n",
    "\n",
    "import ipywidgets as widgets\n",
    "from IPython.display import display\n",
    "\n",
    "class KitchenTimer:\n",
    "    \n",
    "    def on_button_press(self, b):\n",
    "        self.stm.send_signal('switch') # <---- here we send a signal\n",
    "            \n",
    "    def __init__(self):\n",
    "        # load images and store them\n",
    "        self.on_60 = open(\"images/timer/on_60.jpg\", \"rb\").read()\n",
    "        self.off_60 = open(\"images/timer/off_60.jpg\", \"rb\").read()\n",
    "        self.on_45 = open(\"images/timer/on_45.jpg\", \"rb\").read()\n",
    "        self.off_45 = open(\"images/timer/off_45.jpg\", \"rb\").read()\n",
    "        self.on_30 = open(\"images/timer/on_30.jpg\", \"rb\").read()\n",
    "        self.off_30 = open(\"images/timer/off_30.jpg\", \"rb\").read()\n",
    "        self.on_15 = open(\"images/timer/on_15.jpg\", \"rb\").read()\n",
    "        self.off_15 = open(\"images/timer/off_15.jpg\", \"rb\").read()\n",
    "        self.plug_on = open(\"images/timer/plug_on.jpg\", \"rb\").read()\n",
    "        self.plug_off = open(\"images/timer/plug_off.jpg\", \"rb\").read()\n",
    "        \n",
    "        self.led_15 = widgets.Image(value=self.off_15, format='jpg', width=50, height=50)\n",
    "        self.led_30 = widgets.Image(value=self.off_30, format='jpg', width=50, height=50)\n",
    "        self.led_45 = widgets.Image(value=self.off_45, format='jpg', width=50, height=50)\n",
    "        self.led_60 = widgets.Image(value=self.off_60, format='jpg', width=50, height=50)\n",
    "        \n",
    "        left_box = widgets.VBox([self.led_60, self.led_45])\n",
    "        right_box = widgets.VBox([self.led_15, self.led_30])\n",
    "        box = widgets.HBox([left_box, right_box])\n",
    "        self.plug = widgets.Image(value=self.plug_off, format='jpg', width=100, height=100)\n",
    "        \n",
    "        # display the user interface\n",
    "        # a button\n",
    "        self.button = widgets.Button(description=\"Button\")\n",
    "        self.button.on_click(self.on_button_press)\n",
    "        \n",
    "        display(box, self.button, self.plug)\n",
    "        \n",
    "    \n",
    "    def switch_led(self, led, on):\n",
    "        if led is '15' and on: self.led_15.set_trait(name='value', value=self.on_15)\n",
    "        if led is '15' and not on: self.led_15.set_trait(name='value', value=self.off_15) \n",
    "        if led is '30' and on: self.led_30.set_trait(name='value', value=self.on_30)\n",
    "        if led is '30' and not on: self.led_30.set_trait(name='value', value=self.off_30) \n",
    "        if led is '45' and on: self.led_45.set_trait(name='value', value=self.on_45)\n",
    "        if led is '45' and not on: self.led_45.set_trait(name='value', value=self.off_45) \n",
    "        if led is '60' and on: self.led_60.set_trait(name='value', value=self.on_60)\n",
    "        if led is '60' and not on: self.led_60.set_trait(name='value', value=self.off_60) \n",
    "            \n",
    "    def switch_plug(self, on):\n",
    "        if on: self.plug.set_trait(name='value', value=self.plug_on)\n",
    "        else: self.plug.set_trait(name='value', value=self.plug_off) \n",
    "            \n",
    "    def start_timer(self):\n",
    "        self.stm.start_timer('t', 1000)\n",
    "        \n",
    "    def stop_timer(self):\n",
    "        self.stm.stop_timer('t')"
   ]
  },
  {
   "cell_type": "code",
   "execution_count": 10,
   "metadata": {},
   "outputs": [
    {
     "data": {
      "application/vnd.jupyter.widget-view+json": {
       "model_id": "7f950a23f79749fc94c753da469c1f22",
       "version_major": 2,
       "version_minor": 0
      },
      "text/plain": [
       "A Jupyter Widget"
      ]
     },
     "metadata": {},
     "output_type": "display_data"
    },
    {
     "data": {
      "application/vnd.jupyter.widget-view+json": {
       "model_id": "d42e1f0bf3a94a91bec116df742dc817",
       "version_major": 2,
       "version_minor": 0
      },
      "text/plain": [
       "A Jupyter Widget"
      ]
     },
     "metadata": {},
     "output_type": "display_data"
    },
    {
     "data": {
      "application/vnd.jupyter.widget-view+json": {
       "model_id": "f482e30cd74d4180a6ca53937f75bd3d",
       "version_major": 2,
       "version_minor": 0
      },
      "text/plain": [
       "A Jupyter Widget"
      ]
     },
     "metadata": {},
     "output_type": "display_data"
    }
   ],
   "source": [
    "t0 = {'source': 'initial',\n",
    "      'target': 'off'}\n",
    "\n",
    "t1 = {'trigger': 'switch',\n",
    "       'source': 'off',\n",
    "       'target': 's15',\n",
    "       'effect': 'switch_led(\"15\", True); start_timer'}\n",
    "\n",
    "t2 = {'trigger': 'switch',\n",
    "       'source': 's15',\n",
    "       'target': 's30',\n",
    "       'effect': 'switch_led(\"30\", True); start_timer'}\n",
    "\n",
    "t3 = {'trigger': 'switch',\n",
    "       'source': 's30',\n",
    "       'target': 's45',\n",
    "       'effect': 'switch_led(\"45\", True); start_timer'}\n",
    "\n",
    "t4 = {'trigger': 'switch',\n",
    "       'source': 's45',\n",
    "       'target': 's60',\n",
    "       'effect': 'switch_led(\"60\", True); start_timer'}\n",
    "\n",
    "t5 = {'trigger': 'switch',\n",
    "       'source': 's60',\n",
    "       'target': 'off',\n",
    "       'effect': 'switch_led(\"15\", False); switch_led(\"30\", False); switch_led(\"45\", False); switch_led(\"60\", False); stop_timer'}\n",
    "\n",
    "t6 = {'trigger': 't',\n",
    "       'source': 's60',\n",
    "       'target': 's45',\n",
    "       'effect': 'switch_led(\"60\", False); start_timer'}\n",
    "\n",
    "t7 = {'trigger': 't',\n",
    "       'source': 's45',\n",
    "       'target': 's30',\n",
    "       'effect': 'switch_led(\"45\", False); start_timer'}\n",
    "\n",
    "t8 = {'trigger': 't',\n",
    "       'source': 's30',\n",
    "       'target': 's15',\n",
    "       'effect': 'switch_led(\"30\", False); start_timer'}\n",
    "\n",
    "t9 = {'trigger': 't',\n",
    "       'source': 's15',\n",
    "       'target': 'off',\n",
    "       'effect': 'switch_led(\"15\", False)'}\n",
    "\n",
    "off = {'name': 'off',\n",
    "      'entry': 'switch_plug(False)',\n",
    "       'exit': 'switch_plug(True)'}\n",
    "\n",
    "k = KitchenTimer()\n",
    "\n",
    "stm_kitchen = Machine(name='stm_kitchen', transitions=[t0, t1, t2, t3, t4, t5, t6, t7, t8, t9], obj=k, states=[off])\n",
    "\n",
    "k.stm = stm_kitchen\n",
    "\n",
    "driver = Driver()\n",
    "driver.add_machine(stm_kitchen)\n",
    "driver.start()"
   ]
  },
  {
   "cell_type": "code",
   "execution_count": null,
   "metadata": {
    "collapsed": true
   },
   "outputs": [],
   "source": []
  },
  {
   "cell_type": "code",
   "execution_count": null,
   "metadata": {
    "collapsed": true
   },
   "outputs": [],
   "source": []
  }
 ],
 "metadata": {
  "kernelspec": {
   "display_name": "Python 3",
   "language": "python",
   "name": "python3"
  },
  "language_info": {
   "codemirror_mode": {
    "name": "ipython",
    "version": 3
   },
   "file_extension": ".py",
   "mimetype": "text/x-python",
   "name": "python",
   "nbconvert_exporter": "python",
   "pygments_lexer": "ipython3",
   "version": "3.6.3"
  }
 },
 "nbformat": 4,
 "nbformat_minor": 2
}
